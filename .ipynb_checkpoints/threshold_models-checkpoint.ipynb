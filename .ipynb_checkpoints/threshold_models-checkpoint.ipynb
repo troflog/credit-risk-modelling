{
 "cells": [
  {
   "cell_type": "code",
   "execution_count": null,
   "id": "e7df4e94-6eec-4fc2-965d-953b44c212ce",
   "metadata": {},
   "outputs": [],
   "source": [
    "import numpy as np\n",
    "import scipy\n",
    "import math\n",
    "from scipy import stats\n",
    "from scipy.stats import norm\n"
   ]
  }
 ],
 "metadata": {
  "kernelspec": {
   "display_name": "Python 3 (ipykernel)",
   "language": "python",
   "name": "python3"
  },
  "language_info": {
   "codemirror_mode": {
    "name": "ipython",
    "version": 3
   },
   "file_extension": ".py",
   "mimetype": "text/x-python",
   "name": "python",
   "nbconvert_exporter": "python",
   "pygments_lexer": "ipython3",
   "version": "3.9.7"
  }
 },
 "nbformat": 4,
 "nbformat_minor": 5
}
